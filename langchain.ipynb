{
  "nbformat": 4,
  "nbformat_minor": 0,
  "metadata": {
    "colab": {
      "provenance": []
    },
    "kernelspec": {
      "name": "python3",
      "display_name": "Python 3"
    },
    "language_info": {
      "name": "python"
    }
  },
  "cells": [
    {
      "cell_type": "code",
      "execution_count": null,
      "metadata": {
        "id": "6lAiW_uuNh82"
      },
      "outputs": [],
      "source": [
        "from langchain.prompts import PromptTemplate"
      ]
    },
    {
      "cell_type": "code",
      "source": [
        "%pip install --upgrade --quiet langchain-google-genai"
      ],
      "metadata": {
        "colab": {
          "base_uri": "https://localhost:8080/"
        },
        "id": "aQ6UDJk6Nwl8",
        "outputId": "6c7a2728-7ad5-4f09-ba7a-2536438432ee"
      },
      "execution_count": null,
      "outputs": [
        {
          "output_type": "stream",
          "name": "stdout",
          "text": [
            "\u001b[?25l   \u001b[90m━━━━━━━━━━━━━━━━━━━━━━━━━━━━━━━━━━━━━━━━\u001b[0m \u001b[32m0.0/41.3 kB\u001b[0m \u001b[31m?\u001b[0m eta \u001b[36m-:--:--\u001b[0m\r\u001b[2K   \u001b[91m━━━━━━━━━━━━━━━━━━━━━━━━━━━━━━━━━━━━━━━\u001b[0m\u001b[91m╸\u001b[0m \u001b[32m41.0/41.3 kB\u001b[0m \u001b[31m2.4 MB/s\u001b[0m eta \u001b[36m0:00:01\u001b[0m\r\u001b[2K   \u001b[90m━━━━━━━━━━━━━━━━━━━━━━━━━━━━━━━━━━━━━━━━\u001b[0m \u001b[32m41.3/41.3 kB\u001b[0m \u001b[31m1.1 MB/s\u001b[0m eta \u001b[36m0:00:00\u001b[0m\n",
            "\u001b[?25h"
          ]
        }
      ]
    },
    {
      "cell_type": "code",
      "source": [
        "from langchain_google_genai import GoogleGenerativeAI"
      ],
      "metadata": {
        "id": "gP9L91TdN9t7"
      },
      "execution_count": null,
      "outputs": []
    },
    {
      "cell_type": "code",
      "source": [
        "from google.colab import userdata"
      ],
      "metadata": {
        "id": "mNxyDrPZOI_a"
      },
      "execution_count": null,
      "outputs": []
    },
    {
      "cell_type": "code",
      "source": [
        "key=userdata.get('GOOGLE_API_KEY')"
      ],
      "metadata": {
        "id": "mkyBsMdIOPVS"
      },
      "execution_count": null,
      "outputs": []
    },
    {
      "cell_type": "code",
      "source": [
        "model=GoogleGenerativeAI(model=\"gemini-pro\",google_api_key=key)"
      ],
      "metadata": {
        "id": "3UQ2kH_1Oo1S"
      },
      "execution_count": null,
      "outputs": []
    },
    {
      "cell_type": "code",
      "source": [
        "demo_template=\"\"\"you are expert in{programming}.{query}\"\"\""
      ],
      "metadata": {
        "id": "--puqbsUO-8J"
      },
      "execution_count": null,
      "outputs": []
    },
    {
      "cell_type": "code",
      "source": [
        "prompt=PromptTemplate(input_variables=[\"programming\",\"query\"],template=demo_template)"
      ],
      "metadata": {
        "id": "qI1o56w-PTup"
      },
      "execution_count": null,
      "outputs": []
    },
    {
      "cell_type": "code",
      "source": [
        "prompt_text=prompt.format(programming=\"java\",query=\"give program for even numbers\")"
      ],
      "metadata": {
        "id": "M1sQ-6ysPngg"
      },
      "execution_count": null,
      "outputs": []
    },
    {
      "cell_type": "code",
      "source": [
        "res=model.invoke(prompt_text)"
      ],
      "metadata": {
        "id": "8_4UEfEcP6QH"
      },
      "execution_count": null,
      "outputs": []
    },
    {
      "cell_type": "code",
      "source": [
        "print(res)"
      ],
      "metadata": {
        "colab": {
          "base_uri": "https://localhost:8080/"
        },
        "id": "GD1dQoelQQxu",
        "outputId": "1a59e928-0508-43b6-89d8-049d9f982e51"
      },
      "execution_count": null,
      "outputs": [
        {
          "output_type": "stream",
          "name": "stdout",
          "text": [
            "```java\n",
            "public class EvenNumbers {\n",
            "\n",
            "    public static void main(String[] args) {\n",
            "        // Print even numbers from 1 to 100\n",
            "        for (int i = 1; i <= 100; i++) {\n",
            "            if (i % 2 == 0) {\n",
            "                System.out.println(i);\n",
            "            }\n",
            "        }\n",
            "    }\n",
            "}\n",
            "```\n"
          ]
        }
      ]
    },
    {
      "cell_type": "code",
      "source": [
        "from langchain import LLMChain"
      ],
      "metadata": {
        "id": "5pJcaDMRQZ-H"
      },
      "execution_count": null,
      "outputs": []
    },
    {
      "cell_type": "code",
      "source": [
        "llm_chain=LLMChain(prompt=prompt,llm=model)"
      ],
      "metadata": {
        "colab": {
          "base_uri": "https://localhost:8080/"
        },
        "id": "z_-dBNPecH8_",
        "outputId": "1bb80842-a417-4daf-e497-d29d666f0e50"
      },
      "execution_count": null,
      "outputs": [
        {
          "output_type": "stream",
          "name": "stderr",
          "text": [
            "<ipython-input-22-8ab1d06046c7>:1: LangChainDeprecationWarning: The class `LLMChain` was deprecated in LangChain 0.1.17 and will be removed in 1.0. Use :meth:`~RunnableSequence, e.g., `prompt | llm`` instead.\n",
            "  llm_chain=LLMChain(prompt=prompt,llm=model)\n"
          ]
        }
      ]
    },
    {
      "cell_type": "code",
      "source": [
        "res=llm_chain.run({\"programming\":\"c\",\"query\":\"write a function to print the calendar for the year 2025\"})"
      ],
      "metadata": {
        "id": "7kssLjCKcH7g"
      },
      "execution_count": null,
      "outputs": []
    },
    {
      "cell_type": "code",
      "source": [
        "print(res)"
      ],
      "metadata": {
        "colab": {
          "base_uri": "https://localhost:8080/"
        },
        "id": "-sKuIwA5dcTu",
        "outputId": "ac25cb1d-dacb-438b-8eb0-2ef506f3f9d5"
      },
      "execution_count": null,
      "outputs": [
        {
          "output_type": "stream",
          "name": "stdout",
          "text": [
            "```python\n",
            "import calendar\n",
            "\n",
            "def print_calendar(year):\n",
            "  \"\"\"\n",
            "  Prints the calendar for the given year.\n",
            "\n",
            "  Args:\n",
            "    year: The year to print the calendar for.\n",
            "  \"\"\"\n",
            "\n",
            "  # Get the calendar for the given year.\n",
            "  cal = calendar.Calendar()\n",
            "  year_calendar = cal.yeardayscalendar(year)\n",
            "\n",
            "  # Print the calendar for each month.\n",
            "  for month in range(1, 13):\n",
            "    print(f\"Month: {month}\")\n",
            "    print(\"------------------\")\n",
            "    for week in year_calendar[month - 1]:\n",
            "      print(\" \".join(map(str, week)))\n",
            "    print()\n",
            "\n",
            "# Print the calendar for the year 2025.\n",
            "print_calendar(2025)\n",
            "```\n"
          ]
        }
      ]
    },
    {
      "cell_type": "code",
      "source": [],
      "metadata": {
        "id": "Kyysazeodu0D"
      },
      "execution_count": null,
      "outputs": []
    }
  ]
}